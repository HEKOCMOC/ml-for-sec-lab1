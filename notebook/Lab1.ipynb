{
 "cells": [
  {
   "cell_type": "code",
   "execution_count": 1,
   "id": "69c5dfd7-5119-439f-8dcc-79df455406ec",
   "metadata": {},
   "outputs": [],
   "source": [
    "import matplotlib.pyplot as plt\n",
    "import numpy as np\n",
    "import pandas as pd\n",
    "import pickle\n",
    "\n",
    "import xgboost as xgb\n",
    "from sklearn.tree import DecisionTreeClassifier\n",
    "from sklearn.linear_model import SGDClassifier, RidgeClassifier\n",
    "from sklearn.naive_bayes import BernoulliNB\n",
    "from sklearn.model_selection import train_test_split\n",
    "from sklearn.metrics import f1_score\n",
    "import warnings\n",
    "\n",
    "warnings.filterwarnings('ignore')"
   ]
  },
  {
   "cell_type": "code",
   "execution_count": 2,
   "id": "bb97e796-403d-4338-9813-ddf92d8f3990",
   "metadata": {},
   "outputs": [],
   "source": [
    "X = pd.read_csv(\"data/features_train.csv\")\n",
    "y = pd.read_csv(\"data/classes_train.csv\")"
   ]
  },
  {
   "cell_type": "code",
   "execution_count": 3,
   "id": "ec22f9ce-943e-4f6b-b196-2b40cd4d073a",
   "metadata": {},
   "outputs": [],
   "source": [
    "X_train, X_test, y_train, y_test = train_test_split(X, y, test_size=0.5, random_state=1, shuffle=True)"
   ]
  },
  {
   "cell_type": "markdown",
   "id": "c3bae7ab-f073-4844-8ac8-5ade1b3dc4b1",
   "metadata": {},
   "source": [
    "## 1. Базовый контест (делают все хоть как-то)"
   ]
  },
  {
   "cell_type": "markdown",
   "id": "33192a0f-5c45-465e-86df-d7fe6885236c",
   "metadata": {},
   "source": [
    "1.1. Обучить модель без каких-либо дополнительных условий, которая должна наилучшим образом отработать на тестовой выборке преподавателя с точки зрения F-меры"
   ]
  },
  {
   "cell_type": "code",
   "execution_count": 4,
   "id": "8e15a352-50ff-4c95-8e8f-3dc44488472c",
   "metadata": {},
   "outputs": [],
   "source": [
    "model_XGB = xgb.XGBClassifier()\n",
    "model_XGB.fit(X_train, y_train)\n",
    "predict_XGB = model_XGB.predict(X_test)"
   ]
  },
  {
   "cell_type": "code",
   "execution_count": 5,
   "id": "21453e2e-07d4-4cc3-99a7-f8f250edd112",
   "metadata": {},
   "outputs": [],
   "source": [
    "with open('models/model_XGB.pkl','wb') as f:\n",
    "    pickle.dump(model_XGB, f)"
   ]
  },
  {
   "cell_type": "code",
   "execution_count": 6,
   "id": "508f874d-91c6-4377-920f-8932b718ff92",
   "metadata": {},
   "outputs": [],
   "source": [
    "model_DTC = DecisionTreeClassifier()\n",
    "model_DTC.fit(X_train, y_train)\n",
    "predict_DTC = model_DTC.predict(X_test)"
   ]
  },
  {
   "cell_type": "code",
   "execution_count": 7,
   "id": "9a673bc2-5f2d-4816-a992-35459070696c",
   "metadata": {},
   "outputs": [],
   "source": [
    "with open('models/model_DTC.pkl','wb') as f:\n",
    "    pickle.dump(model_DTC, f)"
   ]
  },
  {
   "cell_type": "code",
   "execution_count": 8,
   "id": "a7e0f66a-6e40-4182-af15-edac1da119d9",
   "metadata": {},
   "outputs": [],
   "source": [
    "model_SGD = SGDClassifier()\n",
    "model_SGD.fit(X_train, y_train)\n",
    "predict_SGD = model_SGD.predict(X_test)"
   ]
  },
  {
   "cell_type": "code",
   "execution_count": 9,
   "id": "e7842f0b-a164-48b8-a2db-4eacead1b753",
   "metadata": {},
   "outputs": [],
   "source": [
    "with open('models/model_SGD.pkl','wb') as f:\n",
    "    pickle.dump(model_SGD, f)"
   ]
  },
  {
   "cell_type": "code",
   "execution_count": 10,
   "id": "d6b79058-00b3-465c-8e40-8347e8f74812",
   "metadata": {},
   "outputs": [],
   "source": [
    "model_Ridge = RidgeClassifier()\n",
    "model_Ridge.fit(X_train, y_train)\n",
    "predict_Ridge = model_Ridge.predict(X_test)"
   ]
  },
  {
   "cell_type": "code",
   "execution_count": 11,
   "id": "4f3366a2-a085-406b-911e-254d0e5249ac",
   "metadata": {},
   "outputs": [],
   "source": [
    "with open('models/model_Ridge.pkl','wb') as f:\n",
    "    pickle.dump(model_Ridge, f)"
   ]
  },
  {
   "cell_type": "code",
   "execution_count": 12,
   "id": "d2cea2a3-660e-4af0-80d3-6c1cd6da782d",
   "metadata": {},
   "outputs": [],
   "source": [
    "model_BernoulliNB = BernoulliNB()\n",
    "model_BernoulliNB.fit(X_train, y_train)\n",
    "predict_BernoulliNB = model_BernoulliNB.predict(X_test)"
   ]
  },
  {
   "cell_type": "code",
   "execution_count": 13,
   "id": "e17e26f9-a521-4f25-b5e8-8155e9b87480",
   "metadata": {},
   "outputs": [],
   "source": [
    "with open('models/model_BernoulliNB.pkl','wb') as f:\n",
    "    pickle.dump(model_BernoulliNB, f)"
   ]
  },
  {
   "cell_type": "markdown",
   "id": "e709b7cd-d5de-4c76-8497-d2b4df1faecd",
   "metadata": {},
   "source": [
    "### Результаты п.1"
   ]
  },
  {
   "cell_type": "code",
   "execution_count": 19,
   "id": "1920ffe3-6b21-45c2-96be-fcaba358bcd0",
   "metadata": {},
   "outputs": [
    {
     "data": {
      "text/html": [
       "<div>\n",
       "<style scoped>\n",
       "    .dataframe tbody tr th:only-of-type {\n",
       "        vertical-align: middle;\n",
       "    }\n",
       "\n",
       "    .dataframe tbody tr th {\n",
       "        vertical-align: top;\n",
       "    }\n",
       "\n",
       "    .dataframe thead th {\n",
       "        text-align: right;\n",
       "    }\n",
       "</style>\n",
       "<table border=\"1\" class=\"dataframe\">\n",
       "  <thead>\n",
       "    <tr style=\"text-align: right;\">\n",
       "      <th></th>\n",
       "      <th>F1-Score</th>\n",
       "    </tr>\n",
       "  </thead>\n",
       "  <tbody>\n",
       "    <tr>\n",
       "      <th>XGB</th>\n",
       "      <td>0.993220</td>\n",
       "    </tr>\n",
       "    <tr>\n",
       "      <th>DTC</th>\n",
       "      <td>0.988034</td>\n",
       "    </tr>\n",
       "    <tr>\n",
       "      <th>Ridge</th>\n",
       "      <td>0.984925</td>\n",
       "    </tr>\n",
       "    <tr>\n",
       "      <th>NB</th>\n",
       "      <td>0.981697</td>\n",
       "    </tr>\n",
       "    <tr>\n",
       "      <th>SGD</th>\n",
       "      <td>0.838710</td>\n",
       "    </tr>\n",
       "  </tbody>\n",
       "</table>\n",
       "</div>"
      ],
      "text/plain": [
       "       F1-Score\n",
       "XGB    0.993220\n",
       "DTC    0.988034\n",
       "Ridge  0.984925\n",
       "NB     0.981697\n",
       "SGD    0.838710"
      ]
     },
     "execution_count": 19,
     "metadata": {},
     "output_type": "execute_result"
    }
   ],
   "source": [
    "pd.DataFrame(data=[f1_score(y_test, predict_XGB), f1_score(y_test, predict_DTC),\n",
    "                   f1_score(y_test, predict_SGD), f1_score(y_test, predict_Ridge),\n",
    "                   f1_score(y_test, predict_BernoulliNB)],\n",
    "             columns=['F1-Score'],\n",
    "             index=['XGB', 'DTC', 'SGD', 'Ridge', 'NB']).sort_values('F1-Score', ascending=False)"
   ]
  },
  {
   "cell_type": "markdown",
   "id": "7280b780-324a-4377-b00a-9f587ed9fac7",
   "metadata": {},
   "source": [
    "## 2. Вторичные контесты"
   ]
  },
  {
   "cell_type": "code",
   "execution_count": null,
   "id": "75c99116-d511-4f82-b6a0-f07d0cb0b7f1",
   "metadata": {},
   "outputs": [],
   "source": []
  }
 ],
 "metadata": {
  "kernelspec": {
   "display_name": "Python 3 (ipykernel)",
   "language": "python",
   "name": "python3"
  },
  "language_info": {
   "codemirror_mode": {
    "name": "ipython",
    "version": 3
   },
   "file_extension": ".py",
   "mimetype": "text/x-python",
   "name": "python",
   "nbconvert_exporter": "python",
   "pygments_lexer": "ipython3",
   "version": "3.9.15"
  }
 },
 "nbformat": 4,
 "nbformat_minor": 5
}
