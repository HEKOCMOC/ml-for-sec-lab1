{
 "cells": [
  {
   "cell_type": "code",
   "execution_count": 1,
   "id": "69c5dfd7-5119-439f-8dcc-79df455406ec",
   "metadata": {},
   "outputs": [],
   "source": [
    "import matplotlib.pyplot as plt\n",
    "import numpy as np\n",
    "import pandas as pd\n",
    "import pickle\n",
    "\n",
    "import xgboost as xgb\n",
    "from sklearn.tree import DecisionTreeClassifier\n",
    "from sklearn.linear_model import SGDClassifier, RidgeClassifier\n",
    "from sklearn.naive_bayes import BernoulliNB\n",
    "from sklearn.model_selection import train_test_split\n",
    "from sklearn.metrics import f1_score, plot_confusion_matrix\n",
    "from sklearn.feature_selection import SelectKBest, f_classif\n",
    "import warnings\n",
    "\n",
    "warnings.filterwarnings('ignore')\n",
    "\n",
    "%matplotlib inline\n",
    "plt.rcParams['figure.figsize'] = (7, 7)"
   ]
  },
  {
   "cell_type": "code",
   "execution_count": 2,
   "id": "bb97e796-403d-4338-9813-ddf92d8f3990",
   "metadata": {},
   "outputs": [],
   "source": [
    "X = pd.read_csv(\"../data/features_train.csv\")\n",
    "y = pd.read_csv(\"../data/classes_train.csv\")"
   ]
  },
  {
   "cell_type": "code",
   "execution_count": 3,
   "id": "ec22f9ce-943e-4f6b-b196-2b40cd4d073a",
   "metadata": {},
   "outputs": [],
   "source": [
    "X_train, X_test, y_train, y_test = train_test_split(X, y, test_size=0.5, random_state=1, shuffle=True)"
   ]
  },
  {
   "cell_type": "markdown",
   "id": "c3bae7ab-f073-4844-8ac8-5ade1b3dc4b1",
   "metadata": {},
   "source": [
    "## 1. Базовый контест"
   ]
  },
  {
   "cell_type": "markdown",
   "id": "33192a0f-5c45-465e-86df-d7fe6885236c",
   "metadata": {},
   "source": [
    "### 1.1. Обучить модель без каких-либо дополнительных условий, которая должна наилучшим образом отработать на тестовой выборке преподавателя с точки зрения F-меры"
   ]
  },
  {
   "cell_type": "code",
   "execution_count": 4,
   "id": "8e15a352-50ff-4c95-8e8f-3dc44488472c",
   "metadata": {},
   "outputs": [],
   "source": [
    "# Градиентный бустинг\n",
    "model_XGB = xgb.XGBClassifier()\n",
    "model_XGB.fit(X_train, y_train)\n",
    "predict_XGB = model_XGB.predict(X_test)"
   ]
  },
  {
   "cell_type": "code",
   "execution_count": 5,
   "id": "a7e0f66a-6e40-4182-af15-edac1da119d9",
   "metadata": {},
   "outputs": [],
   "source": [
    "# Стохастический градиентный спуск\n",
    "model_SGD = SGDClassifier()\n",
    "model_SGD.fit(X_train, y_train)\n",
    "predict_SGD = model_SGD.predict(X_test)"
   ]
  },
  {
   "cell_type": "code",
   "execution_count": 6,
   "id": "d6b79058-00b3-465c-8e40-8347e8f74812",
   "metadata": {},
   "outputs": [],
   "source": [
    "# Классификатор с помощью регрессии Ridge\n",
    "model_Ridge = RidgeClassifier()\n",
    "model_Ridge.fit(X_train, y_train)\n",
    "predict_Ridge = model_Ridge.predict(X_test)"
   ]
  },
  {
   "cell_type": "code",
   "execution_count": 7,
   "id": "d2cea2a3-660e-4af0-80d3-6c1cd6da782d",
   "metadata": {},
   "outputs": [],
   "source": [
    "# Наивный Байес\n",
    "model_BernoulliNB = BernoulliNB()\n",
    "model_BernoulliNB.fit(X_train, y_train)\n",
    "predict_BernoulliNB = model_BernoulliNB.predict(X_test)"
   ]
  },
  {
   "cell_type": "code",
   "execution_count": 8,
   "id": "508f874d-91c6-4377-920f-8932b718ff92",
   "metadata": {},
   "outputs": [],
   "source": [
    "# Дерево решений\n",
    "model_DTC = DecisionTreeClassifier()\n",
    "model_DTC.fit(X_train, y_train)\n",
    "predict_DTC = model_DTC.predict(X_test)"
   ]
  },
  {
   "cell_type": "markdown",
   "id": "e709b7cd-d5de-4c76-8497-d2b4df1faecd",
   "metadata": {},
   "source": [
    "#### 1.1.1 Результаты"
   ]
  },
  {
   "cell_type": "code",
   "execution_count": 9,
   "id": "1920ffe3-6b21-45c2-96be-fcaba358bcd0",
   "metadata": {},
   "outputs": [
    {
     "data": {
      "text/html": [
       "<div>\n",
       "<style scoped>\n",
       "    .dataframe tbody tr th:only-of-type {\n",
       "        vertical-align: middle;\n",
       "    }\n",
       "\n",
       "    .dataframe tbody tr th {\n",
       "        vertical-align: top;\n",
       "    }\n",
       "\n",
       "    .dataframe thead th {\n",
       "        text-align: right;\n",
       "    }\n",
       "</style>\n",
       "<table border=\"1\" class=\"dataframe\">\n",
       "  <thead>\n",
       "    <tr style=\"text-align: right;\">\n",
       "      <th></th>\n",
       "      <th>F1-Score</th>\n",
       "    </tr>\n",
       "  </thead>\n",
       "  <tbody>\n",
       "    <tr>\n",
       "      <th>XGB</th>\n",
       "      <td>0.993220</td>\n",
       "    </tr>\n",
       "    <tr>\n",
       "      <th>DTC</th>\n",
       "      <td>0.989831</td>\n",
       "    </tr>\n",
       "    <tr>\n",
       "      <th>Ridge</th>\n",
       "      <td>0.984925</td>\n",
       "    </tr>\n",
       "    <tr>\n",
       "      <th>NB</th>\n",
       "      <td>0.981697</td>\n",
       "    </tr>\n",
       "    <tr>\n",
       "      <th>SGD</th>\n",
       "      <td>0.914077</td>\n",
       "    </tr>\n",
       "  </tbody>\n",
       "</table>\n",
       "</div>"
      ],
      "text/plain": [
       "       F1-Score\n",
       "XGB    0.993220\n",
       "DTC    0.989831\n",
       "Ridge  0.984925\n",
       "NB     0.981697\n",
       "SGD    0.914077"
      ]
     },
     "execution_count": 9,
     "metadata": {},
     "output_type": "execute_result"
    }
   ],
   "source": [
    "pd.DataFrame(data=[f1_score(y_test, predict_XGB), f1_score(y_test, predict_DTC),\n",
    "                   f1_score(y_test, predict_SGD), f1_score(y_test, predict_Ridge),\n",
    "                   f1_score(y_test, predict_BernoulliNB)],\n",
    "             columns=['F1-Score'],\n",
    "             index=['XGB', 'DTC', 'SGD', 'Ridge', 'NB']).sort_values('F1-Score', ascending=False)"
   ]
  },
  {
   "cell_type": "code",
   "execution_count": 10,
   "id": "21453e2e-07d4-4cc3-99a7-f8f250edd112",
   "metadata": {},
   "outputs": [],
   "source": [
    "# сохранение лучшей модели\n",
    "with open('../models/model_XGB_1_1.pkl','wb') as f:\n",
    "    pickle.dump(model_XGB, f)"
   ]
  },
  {
   "cell_type": "markdown",
   "id": "abe65120-b281-49d3-80ea-f6a0f3440a24",
   "metadata": {},
   "source": [
    "#### 1.1.2 Вывод"
   ]
  },
  {
   "cell_type": "markdown",
   "id": "97ee9c19-fe36-4a7e-bfae-533a06f41e87",
   "metadata": {},
   "source": [
    "Исходя из результатов, видно, что лучшей моделью по F-мере из пяти выбранных стал ```XGBoost``` или градиентный бустинг."
   ]
  },
  {
   "cell_type": "markdown",
   "id": "7280b780-324a-4377-b00a-9f587ed9fac7",
   "metadata": {},
   "source": [
    "## 2. Вторичные контесты"
   ]
  },
  {
   "cell_type": "markdown",
   "id": "78804315-da05-4f74-bf0b-aec78683678c",
   "metadata": {},
   "source": [
    "### 2.1. Максимально логичным образом обучить качественную модель, использующую для работы только 10 признаков из всего исходного множества."
   ]
  },
  {
   "cell_type": "code",
   "execution_count": 11,
   "id": "6f0312a1-8211-4347-a109-53b33db59ad6",
   "metadata": {},
   "outputs": [],
   "source": [
    "# по умолчанию параметры SelectKBest(score_func=f_classif, k=10)\n",
    "k_best = SelectKBest()\n",
    "fit = k_best.fit(X_train, y_train)"
   ]
  },
  {
   "cell_type": "code",
   "execution_count": 12,
   "id": "0d02e3aa-7a6f-4c81-99c9-7855a9e9d86b",
   "metadata": {},
   "outputs": [
    {
     "data": {
      "text/html": [
       "<div>\n",
       "<style scoped>\n",
       "    .dataframe tbody tr th:only-of-type {\n",
       "        vertical-align: middle;\n",
       "    }\n",
       "\n",
       "    .dataframe tbody tr th {\n",
       "        vertical-align: top;\n",
       "    }\n",
       "\n",
       "    .dataframe thead th {\n",
       "        text-align: right;\n",
       "    }\n",
       "</style>\n",
       "<table border=\"1\" class=\"dataframe\">\n",
       "  <thead>\n",
       "    <tr style=\"text-align: right;\">\n",
       "      <th></th>\n",
       "      <th>Feature</th>\n",
       "      <th>f_classif_score</th>\n",
       "    </tr>\n",
       "  </thead>\n",
       "  <tbody>\n",
       "    <tr>\n",
       "      <th>7</th>\n",
       "      <td>is_verified</td>\n",
       "      <td>33760.513542</td>\n",
       "    </tr>\n",
       "    <tr>\n",
       "      <th>8</th>\n",
       "      <td>user_age</td>\n",
       "      <td>2695.216594</td>\n",
       "    </tr>\n",
       "    <tr>\n",
       "      <th>5</th>\n",
       "      <td>is_default_profile</td>\n",
       "      <td>110.408138</td>\n",
       "    </tr>\n",
       "    <tr>\n",
       "      <th>3</th>\n",
       "      <td>favourites_count</td>\n",
       "      <td>86.234281</td>\n",
       "    </tr>\n",
       "    <tr>\n",
       "      <th>6</th>\n",
       "      <td>is_profile_use_background_image</td>\n",
       "      <td>75.527409</td>\n",
       "    </tr>\n",
       "    <tr>\n",
       "      <th>12</th>\n",
       "      <td>favourites_growth_rate</td>\n",
       "      <td>67.001042</td>\n",
       "    </tr>\n",
       "    <tr>\n",
       "      <th>19</th>\n",
       "      <td>description_length</td>\n",
       "      <td>49.885589</td>\n",
       "    </tr>\n",
       "    <tr>\n",
       "      <th>2</th>\n",
       "      <td>friends_count</td>\n",
       "      <td>38.217795</td>\n",
       "    </tr>\n",
       "    <tr>\n",
       "      <th>11</th>\n",
       "      <td>friends_growth_rate</td>\n",
       "      <td>37.192874</td>\n",
       "    </tr>\n",
       "    <tr>\n",
       "      <th>15</th>\n",
       "      <td>screen_name_length</td>\n",
       "      <td>35.024428</td>\n",
       "    </tr>\n",
       "  </tbody>\n",
       "</table>\n",
       "</div>"
      ],
      "text/plain": [
       "                            Feature  f_classif_score\n",
       "7                       is_verified     33760.513542\n",
       "8                          user_age      2695.216594\n",
       "5                is_default_profile       110.408138\n",
       "3                  favourites_count        86.234281\n",
       "6   is_profile_use_background_image        75.527409\n",
       "12           favourites_growth_rate        67.001042\n",
       "19               description_length        49.885589\n",
       "2                     friends_count        38.217795\n",
       "11              friends_growth_rate        37.192874\n",
       "15               screen_name_length        35.024428"
      ]
     },
     "execution_count": 12,
     "metadata": {},
     "output_type": "execute_result"
    }
   ],
   "source": [
    "# формируем датафрейм с наиболее информативными признаками \n",
    "pd.DataFrame(data={'Feature': X_train.columns, 'f_classif_score': fit.scores_})\\\n",
    "            .sort_values('f_classif_score', ascending=False).head(10)"
   ]
  },
  {
   "cell_type": "code",
   "execution_count": 13,
   "id": "60ff91bd-051d-4793-a304-8692140666e7",
   "metadata": {},
   "outputs": [],
   "source": [
    "# выбор наиболее информативных признаков\n",
    "X_kbest = X[['is_verified', 'user_age', 'is_default_profile', 'favourites_count',\n",
    "             'is_profile_use_background_image', 'favourites_growth_rate', 'description_length',\n",
    "             'friends_count', 'friends_growth_rate', 'screen_name_length']]"
   ]
  },
  {
   "cell_type": "code",
   "execution_count": 14,
   "id": "013704c3-035f-4004-bfd6-507f285b04a7",
   "metadata": {},
   "outputs": [],
   "source": [
    "X_train_k, X_test_k, y_train_k, y_test_k = train_test_split(X_kbest, y, test_size=0.5, random_state=1, shuffle=True)"
   ]
  },
  {
   "cell_type": "code",
   "execution_count": 15,
   "id": "cdf51ed4-d87e-49a6-b62d-369f68dd6052",
   "metadata": {},
   "outputs": [],
   "source": [
    "# обучаем наилучшую модель из п.1\n",
    "model_XGB_k = xgb.XGBClassifier()\n",
    "model_XGB_k.fit(X_train_k, y_train_k)\n",
    "predict_XGB_k = model_XGB_k.predict(X_test_k)"
   ]
  },
  {
   "cell_type": "markdown",
   "id": "47436224-b94e-4803-8928-cef082b0d74a",
   "metadata": {},
   "source": [
    "#### 2.1.1 Результаты"
   ]
  },
  {
   "cell_type": "code",
   "execution_count": 16,
   "id": "8b09e61b-32e8-4415-94f8-c8ac0e3ad9f2",
   "metadata": {},
   "outputs": [
    {
     "name": "stdout",
     "output_type": "stream",
     "text": [
      "F1-Score с SelectKBest: 0.989795\n"
     ]
    }
   ],
   "source": [
    "print(\"F1-Score с SelectKBest: %.8s\" %f1_score(y_test_k, predict_XGB_k))"
   ]
  },
  {
   "cell_type": "code",
   "execution_count": 17,
   "id": "1254f17f-780b-4bf0-8222-49349f3cfc5b",
   "metadata": {},
   "outputs": [
    {
     "data": {
      "image/png": "[encoded data removed]",
      "text/plain": [
       "<Figure size 504x504 with 2 Axes>"
      ]
     },
     "metadata": {
      "needs_background": "light"
     },
     "output_type": "display_data"
    }
   ],
   "source": [
    "plot_confusion_matrix(model_XGB_k, X_test_k, y_test_k, normalize='true', cmap='summer')\n",
    "plt.show()"
   ]
  },
  {
   "cell_type": "code",
   "execution_count": 18,
   "id": "c69ab4df-b3f1-4cfb-bd05-9874dc20c868",
   "metadata": {},
   "outputs": [],
   "source": [
    "# сохранение модели\n",
    "with open('../models/model_XGB_2_1.pkl','wb') as f:\n",
    "    pickle.dump(model_XGB_k, f)"
   ]
  },
  {
   "cell_type": "markdown",
   "id": "4de0400a-b2cd-438e-a560-bcb9f7704c29",
   "metadata": {},
   "source": [
    "### 2.2. Обучить модель, обеспечивающую вероятность пропуска бота на уровне не выше 0.03, и имеющую насколько возможно низкую вероятность ложного обнаружения."
   ]
  },
  {
   "cell_type": "code",
   "execution_count": 19,
   "id": "cd125ed9-b937-4cf5-8217-619ecb148ded",
   "metadata": {},
   "outputs": [],
   "source": [
    "# обучаем наилучшую модель из п.1\n",
    "model_XGB_2_2 = xgb.XGBClassifier()\n",
    "model_XGB_2_2.fit(X_train, y_train)\n",
    "predict_XGB_2_2 = model_XGB_2_2.predict(X_test)"
   ]
  },
  {
   "cell_type": "markdown",
   "id": "da7466b2-a505-4161-8d69-faa16e3b1e13",
   "metadata": {
    "tags": []
   },
   "source": [
    "#### 2.2.1 Результаты"
   ]
  },
  {
   "cell_type": "code",
   "execution_count": 20,
   "id": "885e29df-5182-4383-a67e-4c7903b9b61d",
   "metadata": {},
   "outputs": [
    {
     "name": "stdout",
     "output_type": "stream",
     "text": [
      "F1-Score: 0.993220\n"
     ]
    }
   ],
   "source": [
    "print(\"F1-Score: %.8s\" %f1_score(y_test, predict_XGB_2_2))"
   ]
  },
  {
   "cell_type": "code",
   "execution_count": 21,
   "id": "0948e7f6-3d33-437a-ab79-93bd443f6e03",
   "metadata": {},
   "outputs": [
    {
     "data": {
      "image/png": "[encoded data removed]",
      "text/plain": [
       "<Figure size 504x504 with 2 Axes>"
      ]
     },
     "metadata": {
      "needs_background": "light"
     },
     "output_type": "display_data"
    }
   ],
   "source": [
    "plot_confusion_matrix(model_XGB_2_2, X_test, y_test, normalize='true', cmap='summer')\n",
    "plt.show()"
   ]
  },
  {
   "cell_type": "code",
   "execution_count": 22,
   "id": "7926f4e9-dea1-4ce3-8e32-01bb504cd566",
   "metadata": {},
   "outputs": [],
   "source": [
    "# сохранение модели\n",
    "with open('../models/model_XGB_2_2.pkl','wb') as f:\n",
    "    pickle.dump(model_XGB_2_2, f)"
   ]
  },
  {
   "cell_type": "markdown",
   "id": "fe2aab95-93b6-4196-86f0-8058b97163c8",
   "metadata": {
    "tags": []
   },
   "source": [
    "### 2.3 Вывод"
   ]
  },
  {
   "cell_type": "markdown",
   "id": "389041fe-ccd6-42b3-aed5-1c8884bff280",
   "metadata": {},
   "source": [
    "Исходя из полученных результатов, можно сделать вывод, что ```feature_selection``` не всегда положительно сказывается на качестве модели, так как модели сложно восстановить зависимости для качественного предсказания.\n",
    "\n",
    "Модель классифицировала ```0.68%``` ботов как пользователей. Условием лабораторной работы является порог пропуска ботов в ```3%```, исходя из полученных результатов модель ```XGBoost``` выполняет условие задания."
   ]
  },
  {
   "cell_type": "code",
   "execution_count": null,
   "id": "3907791c-4de9-4776-a388-b0f8d67ed586",
   "metadata": {},
   "outputs": [],
   "source": []
  }
 ],
 "metadata": {
  "kernelspec": {
   "display_name": "Python 3 (ipykernel)",
   "language": "python",
   "name": "python3"
  },
  "language_info": {
   "codemirror_mode": {
    "name": "ipython",
    "version": 3
   },
   "file_extension": ".py",
   "mimetype": "text/x-python",
   "name": "python",
   "nbconvert_exporter": "python",
   "pygments_lexer": "ipython3",
   "version": "3.9.15"
  },
  "toc-autonumbering": false,
  "toc-showcode": false
 },
 "nbformat": 4,
 "nbformat_minor": 5
}
